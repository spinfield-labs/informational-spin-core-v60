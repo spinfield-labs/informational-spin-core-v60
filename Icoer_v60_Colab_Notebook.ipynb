{
 "cells": [
  {
   "cell_type": "markdown",
   "id": "91525417",
   "metadata": {},
   "source": [
    "# 🌀 Informational Spin Core v6.0 – Google Colab Template"
   ]
  },
  {
   "cell_type": "code",
   "execution_count": null,
   "id": "d6395ed2",
   "metadata": {},
   "outputs": [],
   "source": [
    "# 🧠 Instalação das dependências principais\n",
    "!pip install fastapi uvicorn sentence-transformers spacy matplotlib transformers pydantic scipy numpy"
   ]
  },
  {
   "cell_type": "code",
   "execution_count": null,
   "id": "6c01e69c",
   "metadata": {},
   "outputs": [],
   "source": [
    "# 🔡 Baixando modelos do spaCy\n",
    "!python -m spacy download en_core_web_sm\n",
    "!python -m spacy download xx_ent_wiki_sm"
   ]
  },
  {
   "cell_type": "code",
   "execution_count": null,
   "id": "32e5c37c",
   "metadata": {},
   "outputs": [],
   "source": [
    "# 🔄 Upload dos arquivos da versão 6.0\n",
    "from google.colab import files\n",
    "\n",
    "print(\"⚠️ Faça upload de todos os arquivos da versão 6.0 (ZIP ou individuais)\")\n",
    "uploaded = files.upload()"
   ]
  },
  {
   "cell_type": "code",
   "execution_count": null,
   "id": "0c77a228",
   "metadata": {},
   "outputs": [],
   "source": [
    "# 📦 Descompactando o pacote se for ZIP\n",
    "import zipfile\n",
    "import os\n",
    "\n",
    "if \"informational_spin_core_v60_bundle.zip\" in uploaded:\n",
    "    with zipfile.ZipFile(\"informational_spin_core_v60_bundle.zip\", 'r') as zip_ref:\n",
    "        zip_ref.extractall(\"icoer_v60\")\n",
    "        print(\"✅ Arquivos extraídos em /icoer_v60\")\n",
    "\n",
    "os.chdir(\"icoer_v60\")"
   ]
  },
  {
   "cell_type": "code",
   "execution_count": null,
   "id": "a97158cd",
   "metadata": {},
   "outputs": [],
   "source": [
    "# 🚀 Rodando a API com Uvicorn + ngrok\n",
    "!pip install nest-asyncio pyngrok\n",
    "import nest_asyncio\n",
    "import uvicorn\n",
    "from pyngrok import ngrok\n",
    "\n",
    "# Ativando túnel ngrok\n",
    "public_url = ngrok.connect(8000)\n",
    "print(f\"🌐 Public API URL: {public_url}\")\n",
    "\n",
    "nest_asyncio.apply()\n",
    "uvicorn.run(\"icoer_async_api_v6:app\", host=\"0.0.0.0\", port=8000)"
   ]
  }
 ],
 "metadata": {},
 "nbformat": 4,
 "nbformat_minor": 5
}
